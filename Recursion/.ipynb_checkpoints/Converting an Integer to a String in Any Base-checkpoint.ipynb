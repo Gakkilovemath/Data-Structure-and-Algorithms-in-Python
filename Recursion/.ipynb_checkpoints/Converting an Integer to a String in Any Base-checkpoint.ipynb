{
 "cells": [
  {
   "cell_type": "code",
   "execution_count": 12,
   "metadata": {},
   "outputs": [
    {
     "name": "stdout",
     "output_type": "stream",
     "text": [
      "5\n",
      "5A\n",
      "5\n",
      "5AD\n",
      "1\n",
      "10\n",
      "1\n",
      "101\n",
      "1\n",
      "10\n",
      "1\n",
      "1010\n"
     ]
    }
   ],
   "source": [
    "def toStr(n, base):\n",
    "    convertString = '0123456789ABCDEF'\n",
    "    if n < base:\n",
    "        return convertString[n]\n",
    "    else:\n",
    "        return toStr(n//base, base)+convertString[n%base]\n",
    "    \n",
    "    \n",
    "    \n",
    "print(toStr(1453, 16))\n",
    "print(toStr(10, 2))\n"
   ]
  }
 ],
 "metadata": {
  "kernelspec": {
   "display_name": "Python 3",
   "language": "python",
   "name": "python3"
  },
  "language_info": {
   "codemirror_mode": {
    "name": "ipython",
    "version": 3
   },
   "file_extension": ".py",
   "mimetype": "text/x-python",
   "name": "python",
   "nbconvert_exporter": "python",
   "pygments_lexer": "ipython3",
   "version": "3.6.0"
  }
 },
 "nbformat": 4,
 "nbformat_minor": 2
}
