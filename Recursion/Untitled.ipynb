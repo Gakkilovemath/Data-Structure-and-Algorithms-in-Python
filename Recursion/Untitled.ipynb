{
 "cells": [
  {
   "cell_type": "code",
   "execution_count": 12,
   "metadata": {},
   "outputs": [
    {
     "name": "stdout",
     "output_type": "stream",
     "text": [
      "0.9182958340544896\n",
      "0.31120000000000003\n"
     ]
    }
   ],
   "source": [
    "import math\n",
    "\n",
    "x = -2/3 * math.log2(2/3) - 1/3 * math.log2(1/3)\n",
    "print(x)\n",
    "\n",
    "y = 3/4*0.9184\n",
    "\n",
    "print(1-y)"
   ]
  }
 ],
 "metadata": {
  "kernelspec": {
   "display_name": "Python 3",
   "language": "python",
   "name": "python3"
  },
  "language_info": {
   "codemirror_mode": {
    "name": "ipython",
    "version": 3
   },
   "file_extension": ".py",
   "mimetype": "text/x-python",
   "name": "python",
   "nbconvert_exporter": "python",
   "pygments_lexer": "ipython3",
   "version": "3.6.0"
  }
 },
 "nbformat": 4,
 "nbformat_minor": 2
}
