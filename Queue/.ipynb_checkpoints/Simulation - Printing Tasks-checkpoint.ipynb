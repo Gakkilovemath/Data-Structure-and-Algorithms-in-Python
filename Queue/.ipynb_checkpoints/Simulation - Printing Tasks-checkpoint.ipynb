{
 "cells": [
  {
   "cell_type": "code",
   "execution_count": 2,
   "metadata": {
    "collapsed": true
   },
   "outputs": [],
   "source": [
    "class Queue:\n",
    "    def __init__(self):\n",
    "        self.items = []\n",
    "    \n",
    "    def isEmpty(self):\n",
    "        return self.items == []\n",
    "    \n",
    "    def enqueue(self, item):\n",
    "        self.items.insert(0, item)\n",
    "    \n",
    "    def dequeue(self):\n",
    "        return self.items.pop()\n",
    "    \n",
    "    def size(self):\n",
    "        return len(self.items)"
   ]
  },
  {
   "cell_type": "code",
   "execution_count": 11,
   "metadata": {},
   "outputs": [
    {
     "name": "stdout",
     "output_type": "stream",
     "text": [
      "Average Wait 3383.00 secs  17 tasks ramaining.\n",
      "Average Wait 3388.00 secs  18 tasks ramaining.\n",
      "Average Wait 3570.00 secs  20 tasks ramaining.\n",
      "Average Wait 3391.00 secs  16 tasks ramaining.\n",
      "Average Wait 3553.00 secs  21 tasks ramaining.\n",
      "Average Wait 3373.00 secs  17 tasks ramaining.\n",
      "Average Wait 3586.00 secs  26 tasks ramaining.\n",
      "Average Wait 3132.00 secs  19 tasks ramaining.\n",
      "Average Wait 3392.00 secs  22 tasks ramaining.\n",
      "Average Wait 3418.00 secs  17 tasks ramaining.\n"
     ]
    }
   ],
   "source": [
    "import random\n",
    "\n",
    "class Printer:\n",
    "    def __init__(self, ppm):\n",
    "        self.pagerate = ppm\n",
    "        self.currentTask = None\n",
    "        self.timeRemaining = 0\n",
    "    \n",
    "    def tick(self):\n",
    "        if self.currentTask != None:\n",
    "            self.timeRemaining = self.timeRemaining - 1\n",
    "            if self.timeRemaining <= 0:\n",
    "                self.currentTask = None\n",
    "                \n",
    "    def busy(self):\n",
    "        if self.currentTask != None:\n",
    "            return True\n",
    "        else:\n",
    "            return False\n",
    "    \n",
    "    def startNext(self, newtask):\n",
    "        self.currentTask = newtask\n",
    "        self.timeRamaining = newtask.getPages() * 60/self.pagerate\n",
    "        \n",
    "class Task:\n",
    "    def __init__(self, time):\n",
    "        self.timestamp = time\n",
    "        self.pages = random.randrange(1, 21)\n",
    "        \n",
    "    def getStamp(self):\n",
    "        return self.timestamp\n",
    "    \n",
    "    def getPages(self):\n",
    "        return self.pages\n",
    "    \n",
    "    def waitTime(self, currenttime):\n",
    "        return currenttime - self.timestamp\n",
    "        \n",
    "def simulation(numSecs, pagesPerMins):\n",
    "    labprinter = Printer(pagesPerMins)\n",
    "    printQueue = Queue()\n",
    "    waitingtimes = []\n",
    "    \n",
    "    for currentSec in range(numSecs):\n",
    "        if newPrintTask():\n",
    "            task = Task(currentSec)\n",
    "            printQueue.enqueue(task)\n",
    "            \n",
    "    if (not labprinter.busy()) and (not printQueue.isEmpty()):\n",
    "        nexttask = printQueue.dequeue()\n",
    "        waitingtimes.append(nexttask.waitTime(currentSec))\n",
    "        labprinter.startNext(nexttask)\n",
    "        \n",
    "    labprinter.tick()\n",
    "    \n",
    "    averageWait = sum(waitingtimes)/len(waitingtimes)\n",
    "    print('Average Wait %6.2f secs %3d tasks ramaining.'%(averageWait, printQueue.size()))\n",
    "    \n",
    "def newPrintTask():\n",
    "    num = random.randrange(1, 181)\n",
    "    if num == 180:\n",
    "        return True\n",
    "    else:\n",
    "        return False\n",
    "    \n",
    "for i in range(10):\n",
    "    simulation(3600, 5)\n",
    "    \n",
    "        "
   ]
  }
 ],
 "metadata": {
  "kernelspec": {
   "display_name": "Python 3",
   "language": "python",
   "name": "python3"
  },
  "language_info": {
   "codemirror_mode": {
    "name": "ipython",
    "version": 3
   },
   "file_extension": ".py",
   "mimetype": "text/x-python",
   "name": "python",
   "nbconvert_exporter": "python",
   "pygments_lexer": "ipython3",
   "version": "3.6.0"
  }
 },
 "nbformat": 4,
 "nbformat_minor": 2
}
